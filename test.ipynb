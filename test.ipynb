{
  "nbformat": 4,
  "nbformat_minor": 0,
  "metadata": {
    "colab": {
      "provenance": [],
      "authorship_tag": "ABX9TyND6fthClwLVSU0QZ3jEoBi",
      "include_colab_link": true
    },
    "kernelspec": {
      "name": "python3",
      "display_name": "Python 3"
    },
    "language_info": {
      "name": "python"
    }
  },
  "cells": [
    {
      "cell_type": "markdown",
      "metadata": {
        "id": "view-in-github",
        "colab_type": "text"
      },
      "source": [
        "<a href=\"https://colab.research.google.com/github/chenxianlong/CLUEDatasetSearch/blob/master/test.ipynb\" target=\"_parent\"><img src=\"https://colab.research.google.com/assets/colab-badge.svg\" alt=\"Open In Colab\"/></a>"
      ]
    },
    {
      "cell_type": "code",
      "execution_count": 2,
      "metadata": {
        "id": "tZaLC8dCiTvb"
      },
      "outputs": [],
      "source": [
        "from random import randint\n",
        "\n",
        "data = [randint(40,400) for i in range(1,21)]"
      ]
    },
    {
      "cell_type": "code",
      "source": [
        "data"
      ],
      "metadata": {
        "colab": {
          "base_uri": "https://localhost:8080/"
        },
        "id": "5LUPLm5RieJM",
        "outputId": "6cdab67b-bbab-416a-fec0-d54ede3a6243"
      },
      "execution_count": 3,
      "outputs": [
        {
          "output_type": "execute_result",
          "data": {
            "text/plain": [
              "[149,\n",
              " 340,\n",
              " 243,\n",
              " 182,\n",
              " 46,\n",
              " 174,\n",
              " 231,\n",
              " 338,\n",
              " 296,\n",
              " 296,\n",
              " 381,\n",
              " 283,\n",
              " 271,\n",
              " 179,\n",
              " 176,\n",
              " 118,\n",
              " 338,\n",
              " 301,\n",
              " 140,\n",
              " 128]"
            ]
          },
          "metadata": {},
          "execution_count": 3
        }
      ]
    }
  ]
}